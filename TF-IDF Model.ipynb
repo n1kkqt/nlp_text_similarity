{
  "nbformat": 4,
  "nbformat_minor": 0,
  "metadata": {
    "colab": {
      "name": "NLP_DLM_PROJECT",
      "provenance": []
    },
    "kernelspec": {
      "name": "python3",
      "display_name": "Python 3"
    },
    "language_info": {
      "name": "python"
    }
  },
  "cells": [
    {
      "cell_type": "code",
      "metadata": {
        "colab": {
          "base_uri": "https://localhost:8080/"
        },
        "id": "E2dPCUAmfZC-",
        "outputId": "79d211cc-8b19-4ee7-a306-9c15812e5667"
      },
      "source": [
        "import numpy as np\n",
        "import pandas as pd\n",
        "import nltk\n",
        "from nltk.corpus import stopwords\n",
        "nltk.download('stopwords')\n",
        "import re\n",
        "from sklearn.feature_extraction.text import TfidfVectorizer\n",
        "from sklearn.metrics.pairwise import cosine_similarity\n",
        "\n",
        "# Sample documents\n",
        "documents = ['Machine learning is the study of computer algorithms that improve automatically through experience.\\\n",
        "Machine learning algorithms build a mathematical model based on sample data, known as training data.\\\n",
        "The discipline of machine learning employs various approaches to teach computers to accomplish tasks \\\n",
        "where no fully satisfactory algorithm is available.',\n",
        "'Machine learning is closely related to computational statistics, which focuses on making predictions using computers.\\\n",
        "The study of mathematical optimization delivers methods, theory and application domains to the field of machine learning.',\n",
        "'Machine learning involves computers discovering how they can perform tasks without being explicitly programmed to do so. \\\n",
        "It involves computers learning from data provided so that they carry out certain tasks.',\n",
        "'Machine learning approaches are traditionally divided into three broad categories, depending on the nature of the \"signal\"\\\n",
        "or \"feedback\" available to the learning system: Supervised, Unsupervised and Reinforcement',\n",
        "'Software engineering is the systematic application of engineering approaches to the development of software.\\\n",
        "Software engineering is a computing discipline.',\n",
        "'A software engineer creates programs based on logic for the computer to execute. A software engineer has to be more concerned\\\n",
        "about the correctness of the program in all the cases. Meanwhile, a data scientist is comfortable with uncertainty and variability.\\\n",
        "Developing a machine learning application is more iterative and explorative process than software engineering.'\n",
        "]\n",
        "\n",
        "#Creating DataFrame from Documents using Pandas\n",
        "documentsDf=pd.DataFrame(documents,columns=['documents'])\n",
        "\n",
        "# Removing stop words and special characters from the text\n",
        "stopWords=stopwords.words('english')\n",
        "documentsDf['CleanedDocuments']=documentsDf.documents.apply(lambda x: \" \".join(re.sub(r'[^a-zA-Z]',' ',w).lower() for w in x.split() if re.sub(r'[^a-zA-Z]',' ',w).lower() not in stopWords) )\n",
        "\n",
        "# To transform the text into embeddings(way to represent the text in a vector space), TF-IDF method is being used.\n",
        "#Creating TF-IDF vectors from CleanedDocuments\n",
        "tfIdfVectoriser=TfidfVectorizer()\n",
        "tfIdfVectoriser.fit(documentsDf.CleanedDocuments)\n",
        "tfidfVectors=tfIdfVectoriser.transform(documentsDf.CleanedDocuments)\n",
        "\n",
        "\n",
        "def mostSimilarCosine(docId,tfidfVectors):\n",
        "    print (f'Document: {documentsDf.iloc[docId][\"documents\"]}')\n",
        "    print ('\\n')\n",
        "    print ('Similar Documents:')\n",
        "    pairwiseSimilarities=np.dot(tfidfVectors,tfidfVectors.T).toarray()\n",
        "    similarIndex=np.argsort(pairwiseSimilarities[docId])[::-1]\n",
        "    for i in similarIndex:\n",
        "        if i==docId:\n",
        "            continue\n",
        "        print('\\n')\n",
        "        print (f'Document: {documentsDf.iloc[i][\"documents\"]}')\n",
        "        print (f'CosineSimilarity: {pairwiseSimilarities[docId][i]}')\n",
        "       \n",
        "# Calculate the similarity between the embeddings using Cosine Similarity Method.\n",
        "mostSimilarCosine(0,tfidfVectors)"
      ],
      "execution_count": 1,
      "outputs": [
        {
          "output_type": "stream",
          "name": "stdout",
          "text": [
            "[nltk_data] Downloading package stopwords to /root/nltk_data...\n",
            "[nltk_data]   Unzipping corpora/stopwords.zip.\n",
            "Document: Machine learning is the study of computer algorithms that improve automatically through experience.Machine learning algorithms build a mathematical model based on sample data, known as training data.The discipline of machine learning employs various approaches to teach computers to accomplish tasks where no fully satisfactory algorithm is available.\n",
            "\n",
            "\n",
            "Similar Documents:\n",
            "\n",
            "\n",
            "Document: Machine learning is closely related to computational statistics, which focuses on making predictions using computers.The study of mathematical optimization delivers methods, theory and application domains to the field of machine learning.\n",
            "CosineSimilarity: 0.22860560787391593\n",
            "\n",
            "\n",
            "Document: Machine learning involves computers discovering how they can perform tasks without being explicitly programmed to do so. It involves computers learning from data provided so that they carry out certain tasks.\n",
            "CosineSimilarity: 0.22581304743529423\n",
            "\n",
            "\n",
            "Document: Machine learning approaches are traditionally divided into three broad categories, depending on the nature of the \"signal\"or \"feedback\" available to the learning system: Supervised, Unsupervised and Reinforcement\n",
            "CosineSimilarity: 0.15314340308039842\n",
            "\n",
            "\n",
            "Document: A software engineer creates programs based on logic for the computer to execute. A software engineer has to be more concernedabout the correctness of the program in all the cases. Meanwhile, a data scientist is comfortable with uncertainty and variability.Developing a machine learning application is more iterative and explorative process than software engineering.\n",
            "CosineSimilarity: 0.12407396777398046\n",
            "\n",
            "\n",
            "Document: Software engineering is the systematic application of engineering approaches to the development of software.Software engineering is a computing discipline.\n",
            "CosineSimilarity: 0.04978528121489196\n"
          ]
        }
      ]
    }
  ]
}